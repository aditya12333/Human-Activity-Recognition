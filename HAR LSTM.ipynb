{
 "cells": [
  {
   "cell_type": "code",
   "execution_count": 29,
   "metadata": {},
   "outputs": [],
   "source": [
    "import numpy as np\n",
    "import pandas as pd"
   ]
  },
  {
   "cell_type": "code",
   "execution_count": 30,
   "metadata": {},
   "outputs": [],
   "source": [
    "ACTIVITIES = {\n",
    "    0: 'WALKING',\n",
    "    1: 'WALKING_UPSTAIRS',\n",
    "    2: 'WALKING_DOWNSTAIRS',\n",
    "    3: 'SITTING',\n",
    "    4: 'STANDING',\n",
    "    5: 'LAYING'\n",
    "}\n",
    "\n",
    "# utility function to print confusion matrix\n",
    "def confusion_matrix(Y_true, Y_pred):\n",
    "    Y_true = pd.Series([ACTIVITIES[y] for y in np.argmax(Y_true, axis = 1)])\n",
    "    Y_pred = pd.Series([ACTIVITIES[y] for y in np.argmax(Y_pred, axis = 1)])\n",
    "    return pd.crosstab(Y_true, Y_pred, rownames = ['True'], colnames = ['Pred'])"
   ]
  },
  {
   "cell_type": "code",
   "execution_count": 69,
   "metadata": {},
   "outputs": [],
   "source": [
    "DataDir = 'C:/Users/adity/Downloads/applied ai projects/HumanActivityRecognition/HAR/UCI_HAR_Dataset'"
   ]
  },
  {
   "cell_type": "code",
   "execution_count": 32,
   "metadata": {},
   "outputs": [],
   "source": [
    "# Raw data signals\n",
    "# Signals are from Accelerometer and Gyroscope\n",
    "# The signals are in x,y,z directions\n",
    "# Sensor signals are filtered to have only body acceleration\n",
    "# excluding the acceleration due to gravity\n",
    "# Triaxial acceleration from the accelerometer is total acceleration\n",
    "SIGNALS = [\n",
    "    \"body_acc_x\",\n",
    "    \"body_acc_y\",\n",
    "    \"body_acc_z\",\n",
    "    \"body_gyro_x\",\n",
    "    \"body_gyro_y\",\n",
    "    \"body_gyro_z\",\n",
    "    \"total_acc_x\",\n",
    "    \"total_acc_y\",\n",
    "    \"total_acc_z\"\n",
    "]"
   ]
  },
  {
   "cell_type": "code",
   "execution_count": 93,
   "metadata": {},
   "outputs": [],
   "source": [
    "# function to read data from csv file\n",
    "def read_csv(filename):\n",
    "    return pd.read_csv(filename, delim_whitespace = True, header= None)\n",
    "# function to lead the data\n",
    "def load_signals(subset):\n",
    "    signal_data = []\n",
    "    for signal in SIGNALS:\n",
    "        filename = f'C:/Users/adity/Downloads/applied ai projects/HumanActivityRecognition/HAR/UCI_HAR_Dataset/{subset}/Inertial Signals/{signal}_{subset}.txt'\n",
    "        signal_data.append(read_csv(filename).values)\n",
    "        \n",
    "        # Transpose is used to change the dimensionality of the output,\n",
    "        # aggregating the signals by combination of sample/timestep.\n",
    "        # Resultant shape is (7352 train/2947 test samples, 128 timesteps, 9 signals)\n",
    "        return np.transpose(signal_data, (1,2,0))"
   ]
  },
  {
   "cell_type": "code",
   "execution_count": 95,
   "metadata": {},
   "outputs": [],
   "source": [
    "def load_y(subset):\n",
    "    filename = f'C:/Users/adity/Downloads/applied ai projects/HumanActivityRecognition/HAR/UCI_HAR_Dataset/{subset}/y_{subset}.txt'\n",
    "    y = read_csv(filename)[0]\n",
    "    return pd.get_dummies(y).values"
   ]
  },
  {
   "cell_type": "code",
   "execution_count": 91,
   "metadata": {},
   "outputs": [],
   "source": [
    "def load_data():\n",
    "    \"\"\"\n",
    "    Obtain the dataset from multiple files.\n",
    "    Returns: X_train, X_test, y_train, y_test\n",
    "    \"\"\"\n",
    "    X_train, X_test = load_signals('train'), load_signals('test')\n",
    "    y_train, y_test = load_y('train'), load_y('test')\n",
    "\n",
    "    return X_train, X_test, y_train, y_test"
   ]
  },
  {
   "cell_type": "code",
   "execution_count": 83,
   "metadata": {},
   "outputs": [],
   "source": [
    "np.random.seed(42)\n",
    "import tensorflow as tf\n",
    "tf.random.set_seed(42)"
   ]
  },
  {
   "cell_type": "code",
   "execution_count": 84,
   "metadata": {},
   "outputs": [],
   "source": [
    "# Configuring a session\n",
    "session_conf = tf.compat.v1.ConfigProto(\n",
    "    intra_op_parallelism_threads=1,\n",
    "    inter_op_parallelism_threads=1\n",
    ")"
   ]
  },
  {
   "cell_type": "code",
   "execution_count": 85,
   "metadata": {},
   "outputs": [],
   "source": [
    "from tensorflow.compat.v1.keras import backend as K\n",
    "sess = tf.compat.v1.Session(graph = tf.compat.v1.get_default_graph(), config = session_conf)\n",
    "K.set_session(sess)"
   ]
  },
  {
   "cell_type": "code",
   "execution_count": 86,
   "metadata": {},
   "outputs": [],
   "source": [
    "from keras.models import Sequential\n",
    "from keras.layers import LSTM\n",
    "from keras.layers.core import Dense, Dropout"
   ]
  },
  {
   "cell_type": "code",
   "execution_count": 142,
   "metadata": {},
   "outputs": [],
   "source": [
    "epochs = 55\n",
    "batch_size = 20\n",
    "n_hidden = 32\n",
    "\n",
    "# function to count number of classes\n",
    "def count_classes(y):\n",
    "    return len(set([tuple(category) for category in y]))"
   ]
  },
  {
   "cell_type": "code",
   "execution_count": 143,
   "metadata": {},
   "outputs": [],
   "source": [
    "X_train, X_test, y_train, y_test = load_data()"
   ]
  },
  {
   "cell_type": "code",
   "execution_count": 144,
   "metadata": {},
   "outputs": [
    {
     "name": "stdout",
     "output_type": "stream",
     "text": [
      "128\n",
      "1\n",
      "7352\n"
     ]
    }
   ],
   "source": [
    "timesteps = len(X_train[0])\n",
    "input_dim = len(X_train[0][0])\n",
    "n_classes = count_classes(y_train)\n",
    "\n",
    "print(timesteps)\n",
    "print(input_dim)\n",
    "print(len(X_train))"
   ]
  },
  {
   "cell_type": "markdown",
   "metadata": {},
   "source": [
    "#### LSTM Architecture"
   ]
  },
  {
   "cell_type": "code",
   "execution_count": 152,
   "metadata": {},
   "outputs": [
    {
     "name": "stdout",
     "output_type": "stream",
     "text": [
      "Model: \"sequential_11\"\n",
      "_________________________________________________________________\n",
      "Layer (type)                 Output Shape              Param #   \n",
      "=================================================================\n",
      "lstm_15 (LSTM)               (None, 32)                4352      \n",
      "_________________________________________________________________\n",
      "dense_8 (Dense)              (None, 6)                 198       \n",
      "=================================================================\n",
      "Total params: 4,550\n",
      "Trainable params: 4,550\n",
      "Non-trainable params: 0\n",
      "_________________________________________________________________\n"
     ]
    }
   ],
   "source": [
    "model = Sequential()\n",
    "model.add(LSTM(n_hidden, input_shape = (timesteps, input_dim)))\n",
    "#model.add(LSTM(n_hidden, return_sequences = True))\n",
    "#model.add(Dropout(0.5))\n",
    "model.add(Dense(n_classes, activation = 'sigmoid'))\n",
    "model.summary()"
   ]
  },
  {
   "cell_type": "code",
   "execution_count": 153,
   "metadata": {},
   "outputs": [],
   "source": [
    "# Compiling the model\n",
    "model.compile(loss='categorical_crossentropy',\n",
    "              optimizer='rmsprop',\n",
    "              metrics=['accuracy'])"
   ]
  },
  {
   "cell_type": "code",
   "execution_count": 154,
   "metadata": {},
   "outputs": [
    {
     "name": "stdout",
     "output_type": "stream",
     "text": [
      "Epoch 1/55\n",
      "368/368 [==============================] - 11s 29ms/step - loss: 1.3931 - accuracy: 0.2901 - val_loss: 1.1385 - val_accuracy: 0.3251\n",
      "Epoch 2/55\n",
      "368/368 [==============================] - 10s 28ms/step - loss: 1.1420 - accuracy: 0.3383 - val_loss: 1.1666 - val_accuracy: 0.3451\n",
      "Epoch 3/55\n",
      "368/368 [==============================] - 11s 29ms/step - loss: 1.1633 - accuracy: 0.3451 - val_loss: 1.2391 - val_accuracy: 0.3312\n",
      "Epoch 4/55\n",
      "368/368 [==============================] - 10s 28ms/step - loss: 1.3664 - accuracy: 0.3143 - val_loss: 1.2602 - val_accuracy: 0.2942\n",
      "Epoch 5/55\n",
      "368/368 [==============================] - 10s 28ms/step - loss: 1.1926 - accuracy: 0.3430 - val_loss: 1.1793 - val_accuracy: 0.3407\n",
      "Epoch 6/55\n",
      "368/368 [==============================] - 11s 29ms/step - loss: 1.1367 - accuracy: 0.3474 - val_loss: 1.1092 - val_accuracy: 0.3498\n",
      "Epoch 7/55\n",
      "368/368 [==============================] - 10s 29ms/step - loss: 1.3239 - accuracy: 0.3313 - val_loss: 1.3257 - val_accuracy: 0.3271\n",
      "Epoch 8/55\n",
      "368/368 [==============================] - 11s 29ms/step - loss: 1.2462 - accuracy: 0.3532 - val_loss: 1.0806 - val_accuracy: 0.4391\n",
      "Epoch 9/55\n",
      "368/368 [==============================] - 10s 27ms/step - loss: 1.0923 - accuracy: 0.3925 - val_loss: 1.0468 - val_accuracy: 0.4028\n",
      "Epoch 10/55\n",
      "368/368 [==============================] - 9s 25ms/step - loss: 1.0610 - accuracy: 0.4229 - val_loss: 0.9813 - val_accuracy: 0.4727\n",
      "Epoch 11/55\n",
      "368/368 [==============================] - 9s 24ms/step - loss: 0.9675 - accuracy: 0.4732 - val_loss: 0.9194 - val_accuracy: 0.4924\n",
      "Epoch 12/55\n",
      "368/368 [==============================] - 9s 24ms/step - loss: 0.9561 - accuracy: 0.4822 - val_loss: 0.9600 - val_accuracy: 0.4873\n",
      "Epoch 13/55\n",
      "368/368 [==============================] - 9s 24ms/step - loss: 0.9780 - accuracy: 0.4698 - val_loss: 0.8920 - val_accuracy: 0.5154\n",
      "Epoch 14/55\n",
      "368/368 [==============================] - 9s 24ms/step - loss: 0.9235 - accuracy: 0.5001 - val_loss: 0.8873 - val_accuracy: 0.5270\n",
      "Epoch 15/55\n",
      "368/368 [==============================] - 9s 24ms/step - loss: 0.8943 - accuracy: 0.5291 - val_loss: 0.8866 - val_accuracy: 0.5243\n",
      "Epoch 16/55\n",
      "368/368 [==============================] - 9s 24ms/step - loss: 0.8712 - accuracy: 0.5506 - val_loss: 0.8600 - val_accuracy: 0.5562\n",
      "Epoch 17/55\n",
      "368/368 [==============================] - 9s 24ms/step - loss: 1.0520 - accuracy: 0.5053 - val_loss: 0.9412 - val_accuracy: 0.5283\n",
      "Epoch 18/55\n",
      "368/368 [==============================] - 9s 24ms/step - loss: 0.8402 - accuracy: 0.5517 - val_loss: 0.8495 - val_accuracy: 0.5684\n",
      "Epoch 19/55\n",
      "368/368 [==============================] - 9s 24ms/step - loss: 0.8481 - accuracy: 0.5628 - val_loss: 0.8137 - val_accuracy: 0.5786\n",
      "Epoch 20/55\n",
      "368/368 [==============================] - 9s 24ms/step - loss: 0.8173 - accuracy: 0.5666 - val_loss: 0.8433 - val_accuracy: 0.5741\n",
      "Epoch 21/55\n",
      "368/368 [==============================] - 9s 24ms/step - loss: 0.8234 - accuracy: 0.5626 - val_loss: 0.7861 - val_accuracy: 0.5809\n",
      "Epoch 22/55\n",
      "368/368 [==============================] - 9s 24ms/step - loss: 0.7983 - accuracy: 0.5700 - val_loss: 0.8618 - val_accuracy: 0.5310\n",
      "Epoch 23/55\n",
      "368/368 [==============================] - 9s 24ms/step - loss: 0.7959 - accuracy: 0.5737 - val_loss: 0.8839 - val_accuracy: 0.5304\n",
      "Epoch 24/55\n",
      "368/368 [==============================] - 9s 24ms/step - loss: 0.7977 - accuracy: 0.5711 - val_loss: 0.8134 - val_accuracy: 0.5765\n",
      "Epoch 25/55\n",
      "368/368 [==============================] - 9s 24ms/step - loss: 0.7876 - accuracy: 0.5781 - val_loss: 0.7946 - val_accuracy: 0.5745\n",
      "Epoch 26/55\n",
      "368/368 [==============================] - 9s 24ms/step - loss: 0.7787 - accuracy: 0.5734 - val_loss: 0.8334 - val_accuracy: 0.5667\n",
      "Epoch 27/55\n",
      "368/368 [==============================] - 9s 24ms/step - loss: 0.7899 - accuracy: 0.5771 - val_loss: 0.7802 - val_accuracy: 0.5864\n",
      "Epoch 28/55\n",
      "368/368 [==============================] - 9s 24ms/step - loss: 0.7585 - accuracy: 0.5813 - val_loss: 0.8121 - val_accuracy: 0.5809\n",
      "Epoch 29/55\n",
      "368/368 [==============================] - 9s 24ms/step - loss: 0.7566 - accuracy: 0.5861 - val_loss: 0.7858 - val_accuracy: 0.5833\n",
      "Epoch 30/55\n",
      "368/368 [==============================] - 9s 24ms/step - loss: 0.7571 - accuracy: 0.5866 - val_loss: 0.8024 - val_accuracy: 0.5816\n",
      "Epoch 31/55\n",
      "368/368 [==============================] - 9s 24ms/step - loss: 0.7550 - accuracy: 0.5847 - val_loss: 0.7649 - val_accuracy: 0.5850\n",
      "Epoch 32/55\n",
      "368/368 [==============================] - 9s 24ms/step - loss: 0.7459 - accuracy: 0.5887 - val_loss: 0.7624 - val_accuracy: 0.5816\n",
      "Epoch 33/55\n",
      "368/368 [==============================] - 9s 24ms/step - loss: 0.7337 - accuracy: 0.5877 - val_loss: 0.7559 - val_accuracy: 0.5850\n",
      "Epoch 34/55\n",
      "368/368 [==============================] - 9s 24ms/step - loss: 0.7473 - accuracy: 0.5989 - val_loss: 0.7660 - val_accuracy: 0.5809\n",
      "Epoch 35/55\n",
      "368/368 [==============================] - 9s 24ms/step - loss: 0.7253 - accuracy: 0.5937 - val_loss: 0.7743 - val_accuracy: 0.5864\n",
      "Epoch 36/55\n",
      "368/368 [==============================] - 9s 24ms/step - loss: 0.7209 - accuracy: 0.5974 - val_loss: 0.7397 - val_accuracy: 0.5904\n",
      "Epoch 37/55\n",
      "368/368 [==============================] - 9s 24ms/step - loss: 0.7161 - accuracy: 0.5978 - val_loss: 0.7298 - val_accuracy: 0.5959\n",
      "Epoch 38/55\n",
      "368/368 [==============================] - 9s 24ms/step - loss: 0.7058 - accuracy: 0.6038 - val_loss: 0.7877 - val_accuracy: 0.5830\n",
      "Epoch 39/55\n",
      "368/368 [==============================] - 9s 24ms/step - loss: 0.7017 - accuracy: 0.6066 - val_loss: 0.9223 - val_accuracy: 0.5399\n",
      "Epoch 40/55\n",
      "368/368 [==============================] - 9s 24ms/step - loss: 0.6964 - accuracy: 0.6084 - val_loss: 0.7456 - val_accuracy: 0.5884\n",
      "Epoch 41/55\n",
      "368/368 [==============================] - 9s 24ms/step - loss: 0.6970 - accuracy: 0.6087 - val_loss: 0.8361 - val_accuracy: 0.5484\n",
      "Epoch 42/55\n",
      "368/368 [==============================] - 9s 25ms/step - loss: 0.7010 - accuracy: 0.6065 - val_loss: 0.7548 - val_accuracy: 0.5999\n",
      "Epoch 43/55\n",
      "368/368 [==============================] - 9s 24ms/step - loss: 0.6897 - accuracy: 0.6110 - val_loss: 0.7681 - val_accuracy: 0.6010\n",
      "Epoch 44/55\n",
      "368/368 [==============================] - 9s 24ms/step - loss: 0.6999 - accuracy: 0.6066 - val_loss: 0.7311 - val_accuracy: 0.6033\n",
      "Epoch 45/55\n",
      "368/368 [==============================] - 9s 24ms/step - loss: 0.6846 - accuracy: 0.6117 - val_loss: 0.7478 - val_accuracy: 0.5965\n",
      "Epoch 46/55\n",
      "368/368 [==============================] - 9s 24ms/step - loss: 0.6867 - accuracy: 0.6130 - val_loss: 0.7493 - val_accuracy: 0.5965\n",
      "Epoch 47/55\n",
      "368/368 [==============================] - 9s 24ms/step - loss: 0.6796 - accuracy: 0.6083 - val_loss: 0.7511 - val_accuracy: 0.5748\n",
      "Epoch 48/55\n",
      "368/368 [==============================] - 9s 24ms/step - loss: 0.6814 - accuracy: 0.6098 - val_loss: 0.7583 - val_accuracy: 0.5867\n",
      "Epoch 49/55\n",
      "368/368 [==============================] - 9s 24ms/step - loss: 0.6723 - accuracy: 0.6153 - val_loss: 0.8278 - val_accuracy: 0.5707\n",
      "Epoch 50/55\n",
      "368/368 [==============================] - 9s 24ms/step - loss: 0.6727 - accuracy: 0.6140 - val_loss: 0.7785 - val_accuracy: 0.5901\n",
      "Epoch 51/55\n",
      "368/368 [==============================] - 9s 24ms/step - loss: 0.6680 - accuracy: 0.6158 - val_loss: 0.7341 - val_accuracy: 0.6030\n",
      "Epoch 52/55\n",
      "368/368 [==============================] - 9s 24ms/step - loss: 0.6618 - accuracy: 0.6205 - val_loss: 0.8000 - val_accuracy: 0.5969\n",
      "Epoch 53/55\n",
      "368/368 [==============================] - 9s 25ms/step - loss: 0.6703 - accuracy: 0.6197 - val_loss: 0.7479 - val_accuracy: 0.6033\n",
      "Epoch 54/55\n",
      "368/368 [==============================] - 9s 24ms/step - loss: 0.6639 - accuracy: 0.6166 - val_loss: 0.7636 - val_accuracy: 0.5864\n",
      "Epoch 55/55\n",
      "368/368 [==============================] - 9s 24ms/step - loss: 0.6655 - accuracy: 0.6209 - val_loss: 0.7482 - val_accuracy: 0.6020\n"
     ]
    },
    {
     "data": {
      "text/plain": [
       "<tensorflow.python.keras.callbacks.History at 0x175f51c0dc0>"
      ]
     },
     "execution_count": 154,
     "metadata": {},
     "output_type": "execute_result"
    }
   ],
   "source": [
    "# Training the model\n",
    "model.fit(X_train,\n",
    "          y_train,\n",
    "          batch_size=batch_size,\n",
    "          validation_data=(X_test, y_test),\n",
    "          epochs=epochs)"
   ]
  },
  {
   "cell_type": "code",
   "execution_count": 157,
   "metadata": {},
   "outputs": [
    {
     "name": "stdout",
     "output_type": "stream",
     "text": [
      "Pred                LAYING  STANDING  WALKING  WALKING_DOWNSTAIRS  \\\n",
      "True                                                                \n",
      "LAYING                   2       534        1                   0   \n",
      "SITTING                  2       488        0                   1   \n",
      "STANDING                 0       532        0                   0   \n",
      "WALKING                  0         0      456                   0   \n",
      "WALKING_DOWNSTAIRS       0         0        5                 372   \n",
      "WALKING_UPSTAIRS         0         0       19                  40   \n",
      "\n",
      "Pred                WALKING_UPSTAIRS  \n",
      "True                                  \n",
      "LAYING                             0  \n",
      "SITTING                            0  \n",
      "STANDING                           0  \n",
      "WALKING                           40  \n",
      "WALKING_DOWNSTAIRS                43  \n",
      "WALKING_UPSTAIRS                 412  \n"
     ]
    }
   ],
   "source": [
    "print(confusion_matrix(y_test, model.predict(X_test)))"
   ]
  },
  {
   "cell_type": "code",
   "execution_count": 156,
   "metadata": {},
   "outputs": [
    {
     "name": "stdout",
     "output_type": "stream",
     "text": [
      "93/93 [==============================] - 1s 7ms/step - loss: 0.7482 - accuracy: 0.6020\n",
      "[0.7481825947761536, 0.6019681096076965]\n"
     ]
    }
   ],
   "source": [
    "score = model.evaluate(X_test, y_test)\n",
    "print(score)"
   ]
  },
  {
   "cell_type": "code",
   "execution_count": null,
   "metadata": {},
   "outputs": [],
   "source": []
  }
 ],
 "metadata": {
  "kernelspec": {
   "display_name": "Python 3",
   "language": "python",
   "name": "python3"
  },
  "language_info": {
   "codemirror_mode": {
    "name": "ipython",
    "version": 3
   },
   "file_extension": ".py",
   "mimetype": "text/x-python",
   "name": "python",
   "nbconvert_exporter": "python",
   "pygments_lexer": "ipython3",
   "version": "3.8.3"
  }
 },
 "nbformat": 4,
 "nbformat_minor": 4
}
